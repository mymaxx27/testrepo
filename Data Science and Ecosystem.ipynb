{
 "cells": [
  {
   "cell_type": "markdown",
   "id": "cba237ea",
   "metadata": {},
   "source": [
    "# Data Science Tools and Ecosystem"
   ]
  },
  {
   "cell_type": "markdown",
   "id": "83118fb4",
   "metadata": {},
   "source": [
    "In this notebook, Tool for Data Science Week 6"
   ]
  },
  {
   "cell_type": "markdown",
   "id": "b73b9543",
   "metadata": {},
   "source": [
    "Some of the most used languages use for Data Science are:\n",
    "\n",
    "1.Python.\n",
    "2.R.\n",
    "3.Sql."
   ]
  },
  {
   "cell_type": "markdown",
   "id": "eab7e042",
   "metadata": {},
   "source": [
    "Commponly use libraries for Data Science are:\n",
    "    \n",
    "1.NumPy.\n",
    "2.Keras.\n",
    "3.Pandas.\n",
    "4.PyTorch.\n",
    "5.SciPy.\n",
    "6.Scikit-Learn.\n",
    "7.TensorFlow.\n",
    "8.Matplotlib."
   ]
  },
  {
   "cell_type": "markdown",
   "id": "c465c2e1",
   "metadata": {},
   "source": [
    "|Data Science Tools|\n",
    "|---|\n",
    "|SAS|\n",
    "|Apache Hadoop|\n",
    "|TensorFlow|"
   ]
  },
  {
   "cell_type": "markdown",
   "id": "c71035ef",
   "metadata": {},
   "source": [
    "### Below are the examples of the evaluating arithmetic expression examples in Python"
   ]
  },
  {
   "cell_type": "code",
   "execution_count": 5,
   "id": "44e8a814",
   "metadata": {},
   "outputs": [
    {
     "data": {
      "text/plain": [
       "17"
      ]
     },
     "execution_count": 5,
     "metadata": {},
     "output_type": "execute_result"
    }
   ],
   "source": [
    "(3*4)+5"
   ]
  },
  {
   "cell_type": "code",
   "execution_count": 6,
   "id": "86079b84",
   "metadata": {},
   "outputs": [
    {
     "data": {
      "text/plain": [
       "3.3333333333333335"
      ]
     },
     "execution_count": 6,
     "metadata": {},
     "output_type": "execute_result"
    }
   ],
   "source": [
    "200/60"
   ]
  },
  {
   "cell_type": "markdown",
   "id": "40534f79",
   "metadata": {},
   "source": [
    "__Objective__\n",
    "- used languages for Data Science\n",
    "- used libraries for Data Science\n",
    "- popular tool for Data Science\n",
    "- how to provide comments"
   ]
  },
  {
   "cell_type": "markdown",
   "id": "a41eb675",
   "metadata": {},
   "source": [
    "## Author\n",
    "Marcelino Sandoval"
   ]
  }
 ],
 "metadata": {
  "kernelspec": {
   "display_name": "Python 3 (ipykernel)",
   "language": "python",
   "name": "python3"
  },
  "language_info": {
   "codemirror_mode": {
    "name": "ipython",
    "version": 3
   },
   "file_extension": ".py",
   "mimetype": "text/x-python",
   "name": "python",
   "nbconvert_exporter": "python",
   "pygments_lexer": "ipython3",
   "version": "3.11.4"
  }
 },
 "nbformat": 4,
 "nbformat_minor": 5
}
