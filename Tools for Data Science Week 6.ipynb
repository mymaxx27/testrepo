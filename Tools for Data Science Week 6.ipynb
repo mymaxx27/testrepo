{
 "cells": [
  {
   "cell_type": "markdown",
   "id": "c1eeafe0",
   "metadata": {},
   "source": [
    "# Tool for Data Science Week 6"
   ]
  },
  {
   "cell_type": "markdown",
   "id": "f487f247",
   "metadata": {},
   "source": [
    "In this notebook, Tool for Data Science Week 6"
   ]
  },
  {
   "cell_type": "markdown",
   "id": "101f0a4b",
   "metadata": {},
   "source": [
    "Some of the most used languages use for Data Science are:\n",
    "\n",
    "1.Python.\n",
    "2.R.\n",
    "3.Sql."
   ]
  },
  {
   "cell_type": "markdown",
   "id": "5fabb754",
   "metadata": {},
   "source": [
    "Commponly use libraries for Data Science are:\n",
    "    \n",
    "1.NumPy.\n",
    "2.Keras.\n",
    "3.Pandas.\n",
    "4.PyTorch.\n",
    "5.SciPy.\n",
    "6.Scikit-Learn.\n",
    "7.TensorFlow.\n",
    "8.Matplotlib."
   ]
  },
  {
   "cell_type": "markdown",
   "id": "76814685",
   "metadata": {},
   "source": [
    "|Data Science Tools|\n",
    "|---|\n",
    "|SAS|\n",
    "|Apache Hadoop|\n",
    "|TensorFlow|"
   ]
  },
  {
   "cell_type": "markdown",
   "id": "563ae0de",
   "metadata": {},
   "source": [
    "### Below are the examples of the evaluating arithmetic expression examples in Python"
   ]
  },
  {
   "cell_type": "code",
   "execution_count": 5,
   "id": "602b9771",
   "metadata": {},
   "outputs": [
    {
     "data": {
      "text/plain": [
       "17"
      ]
     },
     "execution_count": 5,
     "metadata": {},
     "output_type": "execute_result"
    }
   ],
   "source": [
    "(3*4)+5"
   ]
  },
  {
   "cell_type": "code",
   "execution_count": 6,
   "id": "73ab7712",
   "metadata": {},
   "outputs": [
    {
     "data": {
      "text/plain": [
       "3.3333333333333335"
      ]
     },
     "execution_count": 6,
     "metadata": {},
     "output_type": "execute_result"
    }
   ],
   "source": [
    "200/60"
   ]
  },
  {
   "cell_type": "markdown",
   "id": "d2f51ad7",
   "metadata": {},
   "source": [
    "__Objective__\n",
    "- used languages for Data Science\n",
    "- used libraries for Data Science\n",
    "- popular tool for Data Science\n",
    "- how to provide comments"
   ]
  },
  {
   "cell_type": "markdown",
   "id": "dfffb918",
   "metadata": {},
   "source": [
    "## Author\n",
    "Marcelino Sandoval"
   ]
  }
 ],
 "metadata": {
  "kernelspec": {
   "display_name": "Python 3 (ipykernel)",
   "language": "python",
   "name": "python3"
  },
  "language_info": {
   "codemirror_mode": {
    "name": "ipython",
    "version": 3
   },
   "file_extension": ".py",
   "mimetype": "text/x-python",
   "name": "python",
   "nbconvert_exporter": "python",
   "pygments_lexer": "ipython3",
   "version": "3.11.4"
  }
 },
 "nbformat": 4,
 "nbformat_minor": 5
}
